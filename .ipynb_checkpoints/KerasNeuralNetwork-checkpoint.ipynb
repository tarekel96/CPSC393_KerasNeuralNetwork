{
 "cells": [
  {
   "cell_type": "code",
   "execution_count": 1,
   "id": "f7fbf8f8",
   "metadata": {},
   "outputs": [],
   "source": [
    "# import packages\n",
    "import numpy as np\n",
    "import pandas as pd\n",
    "from sklearn.model_selection import train_test_split\n",
    "from sklearn.preprocessing import MinMaxScaler\n",
    "from sklearn.preprocessing import StandardScaler\n",
    "# packages for building the model\n",
    "from tensorflow import keras\n",
    "from tensorflow.keras.models import Sequential\n",
    "from tensorflow.keras.layers import Activation, Dense\n",
    "# packages for training model\n",
    "from tensorflow.keras.optimizers import Adam\n",
    "from tensorflow.keras.metrics import categorical_crossentropy\n",
    "# misc package\n",
    "import category_encoders as category_encoder"
   ]
  },
  {
   "cell_type": "code",
   "execution_count": 2,
   "id": "69a32acd",
   "metadata": {},
   "outputs": [],
   "source": [
    "data = pd.read_csv('heart.csv')"
   ]
  },
  {
   "cell_type": "code",
   "execution_count": 3,
   "id": "d7fee502",
   "metadata": {},
   "outputs": [
    {
     "data": {
      "text/plain": [
       "Index(['Age', 'Sex', 'ChestPainType', 'RestingBP', 'Cholesterol', 'FastingBS',\n",
       "       'RestingECG', 'MaxHR', 'ExerciseAngina', 'Oldpeak', 'ST_Slope',\n",
       "       'HeartDisease'],\n",
       "      dtype='object')"
      ]
     },
     "execution_count": 3,
     "metadata": {},
     "output_type": "execute_result"
    }
   ],
   "source": [
    "data.columns"
   ]
  },
  {
   "cell_type": "code",
   "execution_count": 4,
   "id": "d2586a08",
   "metadata": {},
   "outputs": [
    {
     "name": "stdout",
     "output_type": "stream",
     "text": [
      "<class 'pandas.core.frame.DataFrame'>\n",
      "RangeIndex: 918 entries, 0 to 917\n",
      "Data columns (total 12 columns):\n",
      " #   Column          Non-Null Count  Dtype  \n",
      "---  ------          --------------  -----  \n",
      " 0   Age             918 non-null    int64  \n",
      " 1   Sex             918 non-null    object \n",
      " 2   ChestPainType   918 non-null    object \n",
      " 3   RestingBP       918 non-null    int64  \n",
      " 4   Cholesterol     918 non-null    int64  \n",
      " 5   FastingBS       918 non-null    int64  \n",
      " 6   RestingECG      918 non-null    object \n",
      " 7   MaxHR           918 non-null    int64  \n",
      " 8   ExerciseAngina  918 non-null    object \n",
      " 9   Oldpeak         918 non-null    float64\n",
      " 10  ST_Slope        918 non-null    object \n",
      " 11  HeartDisease    918 non-null    int64  \n",
      "dtypes: float64(1), int64(6), object(5)\n",
      "memory usage: 86.2+ KB\n"
     ]
    }
   ],
   "source": [
    "data.info()"
   ]
  },
  {
   "cell_type": "code",
   "execution_count": 5,
   "id": "83efb09a",
   "metadata": {},
   "outputs": [
    {
     "data": {
      "text/plain": [
       "(918, 12)"
      ]
     },
     "execution_count": 5,
     "metadata": {},
     "output_type": "execute_result"
    }
   ],
   "source": [
    "# 918 samples, 12 features\n",
    "data.shape"
   ]
  },
  {
   "cell_type": "code",
   "execution_count": 6,
   "id": "cc4692f9",
   "metadata": {},
   "outputs": [
    {
     "data": {
      "text/plain": [
       "Age               0\n",
       "Sex               0\n",
       "ChestPainType     0\n",
       "RestingBP         0\n",
       "Cholesterol       0\n",
       "FastingBS         0\n",
       "RestingECG        0\n",
       "MaxHR             0\n",
       "ExerciseAngina    0\n",
       "Oldpeak           0\n",
       "ST_Slope          0\n",
       "HeartDisease      0\n",
       "dtype: int64"
      ]
     },
     "execution_count": 6,
     "metadata": {},
     "output_type": "execute_result"
    }
   ],
   "source": [
    "# check for missing values - there is no missing data\n",
    "data.isnull().sum(axis=0)"
   ]
  },
  {
   "cell_type": "code",
   "execution_count": 7,
   "id": "6ad1be5c",
   "metadata": {},
   "outputs": [
    {
     "data": {
      "text/plain": [
       "0"
      ]
     },
     "execution_count": 7,
     "metadata": {},
     "output_type": "execute_result"
    }
   ],
   "source": [
    "# check for duplicate values - there is no duplicated data\n",
    "data.duplicated().sum(axis=0)"
   ]
  },
  {
   "cell_type": "code",
   "execution_count": 8,
   "id": "205a35c9",
   "metadata": {},
   "outputs": [
    {
     "name": "stdout",
     "output_type": "stream",
     "text": [
      "Age\n",
      "Values: [40 49 37 48 54 39 45 58 42 38 43 60 36 44 53 52 51 56 41 32 65 35 59 50\n",
      " 47 31 46 57 55 63 66 34 33 61 29 62 28 30 74 68 72 64 69 67 73 70 77 75\n",
      " 76 71]\n",
      "N-dim: 1\n",
      "Shape: (918,)\n",
      "\n",
      "\n",
      "Sex\n",
      "Values: ['M' 'F']\n",
      "N-dim: 1\n",
      "Shape: (918,)\n",
      "\n",
      "\n",
      "ChestPainType\n",
      "Values: ['ATA' 'NAP' 'ASY' 'TA']\n",
      "N-dim: 1\n",
      "Shape: (918,)\n",
      "\n",
      "\n",
      "RestingBP\n",
      "Values: [140 160 130 138 150 120 110 136 115 100 124 113 125 145 112 132 118 170\n",
      " 142 190 135 180 108 155 128 106  92 200 122  98 105 133  95  80 137 185\n",
      " 165 126 152 116   0 144 154 134 104 139 131 141 178 146 158 123 102  96\n",
      " 143 172 156 114 127 101 174  94 148 117 192 129 164]\n",
      "N-dim: 1\n",
      "Shape: (918,)\n",
      "\n",
      "\n",
      "Cholesterol\n",
      "Values: [289 180 283 214 195 339 237 208 207 284 211 164 204 234 273 196 201 248\n",
      " 267 223 184 288 215 209 260 468 188 518 167 224 172 186 254 306 250 177\n",
      " 227 230 294 264 259 175 318 216 340 233 205 245 194 270 213 365 342 253\n",
      " 277 202 297 225 246 412 265 182 218 268 163 529 100 206 238 139 263 291\n",
      " 229 307 210 329 147  85 269 275 179 392 466 129 241 255 276 282 338 160\n",
      " 156 272 240 393 161 228 292 388 166 247 331 341 243 279 198 249 168 603\n",
      " 159 190 185 290 212 231 222 235 320 187 266 287 404 312 251 328 285 280\n",
      " 192 193 308 219 257 132 226 217 303 298 256 117 295 173 315 281 309 200\n",
      " 336 355 326 171 491 271 274 394 221 126 305 220 242 347 344 358 169 181\n",
      "   0 236 203 153 316 311 252 458 384 258 349 142 197 113 261 310 232 110\n",
      " 123 170 369 152 244 165 337 300 333 385 322 564 239 293 407 149 199 417\n",
      " 178 319 354 330 302 313 141 327 304 286 360 262 325 299 409 174 183 321\n",
      " 353 335 278 157 176 131]\n",
      "N-dim: 1\n",
      "Shape: (918,)\n",
      "\n",
      "\n",
      "FastingBS\n",
      "Values: [0 1]\n",
      "N-dim: 1\n",
      "Shape: (918,)\n",
      "\n",
      "\n",
      "RestingECG\n",
      "Values: ['Normal' 'ST' 'LVH']\n",
      "N-dim: 1\n",
      "Shape: (918,)\n",
      "\n",
      "\n",
      "MaxHR\n",
      "Values: [172 156  98 108 122 170 142 130 120  99 145 140 137 150 166 165 125 160\n",
      " 164 138 178 112 118 127 114 154 155  87 148 100 168 184 121 153 134  96\n",
      " 174 175 144  82 135 115 128 116  94 110  92 180 152 124 106 185 139 190\n",
      " 146 158 132 176 119 188 162 105  90 136 167 129 102 143 103  91 126  93\n",
      " 131 149 123 182 141  77 109 133 179 113 104  95  72  97 117  86  63 157\n",
      "  83  60  70 163  67  78  84 111  80 107 161  69  88  73 159 151 181 186\n",
      " 177 173 169 171 147  71 192 195 194 187 202]\n",
      "N-dim: 1\n",
      "Shape: (918,)\n",
      "\n",
      "\n",
      "ExerciseAngina\n",
      "Values: ['N' 'Y']\n",
      "N-dim: 1\n",
      "Shape: (918,)\n",
      "\n",
      "\n",
      "Oldpeak\n",
      "Values: [ 0.   1.   1.5  2.   3.   4.   0.5  2.5  5.   0.8  0.7  1.4  2.1  0.4\n",
      "  0.2  1.7  2.2  0.1  1.6  1.3  0.3  1.8  2.6 -0.9  2.8 -2.6 -1.5 -0.1\n",
      "  0.9  1.1  2.4 -1.  -1.1 -0.7 -0.8  3.7  1.2 -0.5 -2.   1.9  3.5  0.6\n",
      "  3.1  2.3  3.4  3.6  4.2  3.2  5.6  3.8  2.9  6.2  4.4]\n",
      "N-dim: 1\n",
      "Shape: (918,)\n",
      "\n",
      "\n",
      "ST_Slope\n",
      "Values: ['Up' 'Flat' 'Down']\n",
      "N-dim: 1\n",
      "Shape: (918,)\n",
      "\n",
      "\n",
      "HeartDisease\n",
      "Values: [0 1]\n",
      "N-dim: 1\n",
      "Shape: (918,)\n",
      "\n",
      "\n"
     ]
    },
    {
     "data": {
      "text/plain": [
       "['Sex', 'ChestPainType', 'RestingECG', 'ExerciseAngina', 'ST_Slope']"
      ]
     },
     "execution_count": 8,
     "metadata": {},
     "output_type": "execute_result"
    }
   ],
   "source": [
    "category_columns = []\n",
    "\n",
    "# viewing the unique values, number of dimensions, and shape of each column in the data frame\n",
    "for col in data.columns:\n",
    "    print(f'{col}')\n",
    "    print(f'Values: {data[col].unique()}')\n",
    "    print(f'N-dim: {data[col].ndim}')\n",
    "    print(f'Shape: {data[col].shape}')\n",
    "    print('\\n')\n",
    "    \n",
    "    if data[col].dtype == 'object':\n",
    "        category_columns.append(col)\n",
    "category_columns"
   ]
  },
  {
   "cell_type": "code",
   "execution_count": 9,
   "id": "24dd083c",
   "metadata": {},
   "outputs": [
    {
     "data": {
      "text/plain": [
       "array([0, 1])"
      ]
     },
     "execution_count": 9,
     "metadata": {},
     "output_type": "execute_result"
    }
   ],
   "source": [
    "# labels - 0 does not have heart disease, 1 does have heart disease\n",
    "data['HeartDisease'].unique()"
   ]
  },
  {
   "cell_type": "code",
   "execution_count": 10,
   "id": "210ff124",
   "metadata": {},
   "outputs": [
    {
     "name": "stdout",
     "output_type": "stream",
     "text": [
      "<class 'pandas.core.frame.DataFrame'>\n",
      "RangeIndex: 918 entries, 0 to 917\n",
      "Data columns (total 21 columns):\n",
      " #   Column             Non-Null Count  Dtype  \n",
      "---  ------             --------------  -----  \n",
      " 0   Age                918 non-null    int64  \n",
      " 1   RestingBP          918 non-null    int64  \n",
      " 2   Cholesterol        918 non-null    int64  \n",
      " 3   FastingBS          918 non-null    int64  \n",
      " 4   MaxHR              918 non-null    int64  \n",
      " 5   Oldpeak            918 non-null    float64\n",
      " 6   HeartDisease       918 non-null    int64  \n",
      " 7   Sex_F              918 non-null    uint8  \n",
      " 8   Sex_M              918 non-null    uint8  \n",
      " 9   ChestPainType_ASY  918 non-null    uint8  \n",
      " 10  ChestPainType_ATA  918 non-null    uint8  \n",
      " 11  ChestPainType_NAP  918 non-null    uint8  \n",
      " 12  ChestPainType_TA   918 non-null    uint8  \n",
      " 13  RestingECG_LVH     918 non-null    uint8  \n",
      " 14  RestingECG_Normal  918 non-null    uint8  \n",
      " 15  RestingECG_ST      918 non-null    uint8  \n",
      " 16  ExerciseAngina_N   918 non-null    uint8  \n",
      " 17  ExerciseAngina_Y   918 non-null    uint8  \n",
      " 18  ST_Slope_Down      918 non-null    uint8  \n",
      " 19  ST_Slope_Flat      918 non-null    uint8  \n",
      " 20  ST_Slope_Up        918 non-null    uint8  \n",
      "dtypes: float64(1), int64(6), uint8(14)\n",
      "memory usage: 62.9 KB\n"
     ]
    },
    {
     "data": {
      "text/plain": [
       "(None,\n",
       "    Age  RestingBP  Cholesterol  FastingBS  MaxHR  Oldpeak  HeartDisease  \\\n",
       " 0   40        140          289          0    172      0.0             0   \n",
       " 1   49        160          180          0    156      1.0             1   \n",
       " 2   37        130          283          0     98      0.0             0   \n",
       " 3   48        138          214          0    108      1.5             1   \n",
       " 4   54        150          195          0    122      0.0             0   \n",
       " \n",
       "    Sex_F  Sex_M  ChestPainType_ASY  ...  ChestPainType_NAP  ChestPainType_TA  \\\n",
       " 0      0      1                  0  ...                  0                 0   \n",
       " 1      1      0                  0  ...                  1                 0   \n",
       " 2      0      1                  0  ...                  0                 0   \n",
       " 3      1      0                  1  ...                  0                 0   \n",
       " 4      0      1                  0  ...                  1                 0   \n",
       " \n",
       "    RestingECG_LVH  RestingECG_Normal  RestingECG_ST  ExerciseAngina_N  \\\n",
       " 0               0                  1              0                 1   \n",
       " 1               0                  1              0                 1   \n",
       " 2               0                  0              1                 1   \n",
       " 3               0                  1              0                 0   \n",
       " 4               0                  1              0                 1   \n",
       " \n",
       "    ExerciseAngina_Y  ST_Slope_Down  ST_Slope_Flat  ST_Slope_Up  \n",
       " 0                 0              0              0            1  \n",
       " 1                 0              0              1            0  \n",
       " 2                 0              0              0            1  \n",
       " 3                 1              0              1            0  \n",
       " 4                 0              0              0            1  \n",
       " \n",
       " [5 rows x 21 columns])"
      ]
     },
     "execution_count": 10,
     "metadata": {},
     "output_type": "execute_result"
    }
   ],
   "source": [
    "# Convert the nomimnal categorical label values to numerical values\n",
    "\n",
    "# get_dummies method\n",
    "mod_data = data.copy()\n",
    "mod_data = pd.get_dummies(mod_data, columns=category_columns)\n",
    "mod_data.info(), mod_data.head()\n",
    "\n",
    "# encoder = category_encoder.BinaryEncoder(cols = category_columns)\n",
    "# data_mod = data.copy()\n",
    "# df_category_encorder = encoder.fit_transform(data_mod)\n",
    "# df_category_encorder"
   ]
  },
  {
   "cell_type": "code",
   "execution_count": 11,
   "id": "89cca180",
   "metadata": {},
   "outputs": [
    {
     "data": {
      "text/plain": [
       "Index(['Age', 'RestingBP', 'Cholesterol', 'FastingBS', 'MaxHR', 'Oldpeak',\n",
       "       'HeartDisease', 'Sex_F', 'Sex_M', 'ChestPainType_ASY',\n",
       "       'ChestPainType_ATA', 'ChestPainType_NAP', 'ChestPainType_TA',\n",
       "       'RestingECG_LVH', 'RestingECG_Normal', 'RestingECG_ST',\n",
       "       'ExerciseAngina_N', 'ExerciseAngina_Y', 'ST_Slope_Down',\n",
       "       'ST_Slope_Flat', 'ST_Slope_Up'],\n",
       "      dtype='object')"
      ]
     },
     "execution_count": 11,
     "metadata": {},
     "output_type": "execute_result"
    }
   ],
   "source": [
    "mod_data.columns"
   ]
  },
  {
   "cell_type": "code",
   "execution_count": 12,
   "id": "4c79516f",
   "metadata": {},
   "outputs": [
    {
     "data": {
      "text/plain": [
       "(20, (918, 20), (918, 1))"
      ]
     },
     "execution_count": 12,
     "metadata": {},
     "output_type": "execute_result"
    }
   ],
   "source": [
    "features = ['Age', 'RestingBP', 'Cholesterol', 'FastingBS', 'MaxHR',\n",
    "        'Oldpeak', 'Sex_F', 'Sex_M', 'ChestPainType_ASY',\n",
    "       'ChestPainType_ATA', 'ChestPainType_NAP', 'ChestPainType_TA',\n",
    "       'RestingECG_LVH', 'RestingECG_Normal', 'RestingECG_ST',\n",
    "       'ExerciseAngina_N', 'ExerciseAngina_Y', 'ST_Slope_Down',\n",
    "       'ST_Slope_Flat', 'ST_Slope_Up']\n",
    "output = ['HeartDisease']\n",
    "\n",
    "X = np.array(mod_data[features])\n",
    "y = np.array(mod_data[output])\n",
    "\n",
    "len(features), X.shape, y.shape"
   ]
  },
  {
   "cell_type": "code",
   "execution_count": 13,
   "id": "439bbf39",
   "metadata": {},
   "outputs": [
    {
     "data": {
      "text/plain": [
       "(dtype('float64'), dtype('int64'))"
      ]
     },
     "execution_count": 13,
     "metadata": {},
     "output_type": "execute_result"
    }
   ],
   "source": [
    "X.dtype, y.dtype"
   ]
  },
  {
   "cell_type": "code",
   "execution_count": 14,
   "id": "c54c75bf",
   "metadata": {},
   "outputs": [
    {
     "data": {
      "text/plain": [
       "((734, 20), (734, 1), 20)"
      ]
     },
     "execution_count": 14,
     "metadata": {},
     "output_type": "execute_result"
    }
   ],
   "source": [
    "# split dataframe into train samples/labels and test samples/labels\n",
    "train_samples, test_samples, train_labels, test_labels = train_test_split(X, y, test_size=0.20)\n",
    "# convert the dataframes to numpy arrays (tensors)\n",
    "train_labels = np.array(train_labels)\n",
    "train_samples = np.array(train_samples)\n",
    "test_labels = np.array(test_labels)\n",
    "test_samples = np.array(test_samples)\n",
    "\n",
    "train_samples.shape, train_labels.shape, len(features)"
   ]
  },
  {
   "cell_type": "code",
   "execution_count": 15,
   "id": "754a5f6d",
   "metadata": {},
   "outputs": [],
   "source": [
    "# building a Sequential model - linear stack of layers\n",
    "# init the model\n",
    "model = Sequential()\n",
    "# add Dense layers to the models;\n",
    "# units = number of nodes, input_shape = tensor shape the input layer expect (inits weights); activation - activation function\n",
    "model.add(Dense(units=16, activation='relu', input_shape=(20, )))\n",
    "model.add(Dense(units=32, activation='relu'))\n",
    "# use sigmoid in last layer because it is a binary classification problem\n",
    "model.add(Dense(units=1, activation='sigmoid'))"
   ]
  },
  {
   "cell_type": "code",
   "execution_count": 16,
   "id": "93a89602",
   "metadata": {},
   "outputs": [
    {
     "name": "stdout",
     "output_type": "stream",
     "text": [
      "Model: \"sequential\"\n",
      "_________________________________________________________________\n",
      "Layer (type)                 Output Shape              Param #   \n",
      "=================================================================\n",
      "dense (Dense)                (None, 16)                336       \n",
      "_________________________________________________________________\n",
      "dense_1 (Dense)              (None, 32)                544       \n",
      "_________________________________________________________________\n",
      "dense_2 (Dense)              (None, 1)                 33        \n",
      "=================================================================\n",
      "Total params: 913\n",
      "Trainable params: 913\n",
      "Non-trainable params: 0\n",
      "_________________________________________________________________\n"
     ]
    }
   ],
   "source": [
    "model.summary()"
   ]
  },
  {
   "cell_type": "code",
   "execution_count": 17,
   "id": "e026510d",
   "metadata": {},
   "outputs": [],
   "source": [
    "# compilation step - 1) loss function 2) optimizer 3) Metrics to monitor during training and testing\n",
    "opt = Adam(learning_rate=0.01) # defining the optimizer\n",
    "model.compile(optimizer=opt, loss='binary_crossentropy', metrics=['accuracy'])"
   ]
  },
  {
   "cell_type": "code",
   "execution_count": 18,
   "id": "21d04d2f",
   "metadata": {},
   "outputs": [
    {
     "name": "stdout",
     "output_type": "stream",
     "text": [
      "Epoch 1/30\n",
      "37/37 - 0s - loss: 1.6396 - accuracy: 0.6131\n",
      "Epoch 2/30\n",
      "37/37 - 0s - loss: 0.5603 - accuracy: 0.7439\n",
      "Epoch 3/30\n",
      "37/37 - 0s - loss: 0.6339 - accuracy: 0.7003\n",
      "Epoch 4/30\n",
      "37/37 - 0s - loss: 0.5791 - accuracy: 0.7384\n",
      "Epoch 5/30\n",
      "37/37 - 0s - loss: 0.4592 - accuracy: 0.8215\n",
      "Epoch 6/30\n",
      "37/37 - 0s - loss: 0.4246 - accuracy: 0.8243\n",
      "Epoch 7/30\n",
      "37/37 - 0s - loss: 0.4560 - accuracy: 0.7997\n",
      "Epoch 8/30\n",
      "37/37 - 0s - loss: 0.4909 - accuracy: 0.7888\n",
      "Epoch 9/30\n",
      "37/37 - 0s - loss: 0.4780 - accuracy: 0.8011\n",
      "Epoch 10/30\n",
      "37/37 - 0s - loss: 0.3996 - accuracy: 0.8297\n",
      "Epoch 11/30\n",
      "37/37 - 0s - loss: 0.3885 - accuracy: 0.8283\n",
      "Epoch 12/30\n",
      "37/37 - 0s - loss: 0.3692 - accuracy: 0.8542\n",
      "Epoch 13/30\n",
      "37/37 - 0s - loss: 0.3820 - accuracy: 0.8556\n",
      "Epoch 14/30\n",
      "37/37 - 0s - loss: 0.3862 - accuracy: 0.8460\n",
      "Epoch 15/30\n",
      "37/37 - 0s - loss: 0.3694 - accuracy: 0.8515\n",
      "Epoch 16/30\n",
      "37/37 - 0s - loss: 0.3845 - accuracy: 0.8297\n",
      "Epoch 17/30\n",
      "37/37 - 0s - loss: 0.4254 - accuracy: 0.8283\n",
      "Epoch 18/30\n",
      "37/37 - 0s - loss: 0.3533 - accuracy: 0.8733\n",
      "Epoch 19/30\n",
      "37/37 - 0s - loss: 0.3952 - accuracy: 0.8542\n",
      "Epoch 20/30\n",
      "37/37 - 0s - loss: 0.3509 - accuracy: 0.8678\n",
      "Epoch 21/30\n",
      "37/37 - 0s - loss: 0.3682 - accuracy: 0.8515\n",
      "Epoch 22/30\n",
      "37/37 - 0s - loss: 0.3595 - accuracy: 0.8542\n",
      "Epoch 23/30\n",
      "37/37 - 0s - loss: 0.3541 - accuracy: 0.8556\n",
      "Epoch 24/30\n",
      "37/37 - 0s - loss: 0.3575 - accuracy: 0.8392\n",
      "Epoch 25/30\n",
      "37/37 - 0s - loss: 0.3443 - accuracy: 0.8583\n",
      "Epoch 26/30\n",
      "37/37 - 0s - loss: 0.3445 - accuracy: 0.8569\n",
      "Epoch 27/30\n",
      "37/37 - 0s - loss: 0.3799 - accuracy: 0.8420\n",
      "Epoch 28/30\n",
      "37/37 - 0s - loss: 0.3462 - accuracy: 0.8583\n",
      "Epoch 29/30\n",
      "37/37 - 0s - loss: 0.3389 - accuracy: 0.8638\n",
      "Epoch 30/30\n",
      "37/37 - 0s - loss: 0.3456 - accuracy: 0.8515\n"
     ]
    },
    {
     "data": {
      "text/plain": [
       "<keras.callbacks.History at 0x7fb75999a160>"
      ]
     },
     "execution_count": 18,
     "metadata": {},
     "output_type": "execute_result"
    }
   ],
   "source": [
    "# training the model by fitting the normalized training data\n",
    "model.fit(x=train_samples, y=train_labels, batch_size=20, epochs=30, verbose=2)"
   ]
  },
  {
   "cell_type": "code",
   "execution_count": 19,
   "id": "045a32ab",
   "metadata": {},
   "outputs": [],
   "source": [
    "# # .iloc[:, 0:11] --> get all rows and only the first 11 columns (the feature columns)\n",
    "# X = data.iloc[:, 0:11]\n",
    "# # .iloc[:, -1] --> get all rows and only the last column\n",
    "# y = data.iloc[:, -1]\n",
    "\n",
    "# X.shape, y.shape"
   ]
  },
  {
   "cell_type": "code",
   "execution_count": null,
   "id": "08258789",
   "metadata": {},
   "outputs": [],
   "source": []
  }
 ],
 "metadata": {
  "kernelspec": {
   "display_name": "Python 3",
   "language": "python",
   "name": "python3"
  },
  "language_info": {
   "codemirror_mode": {
    "name": "ipython",
    "version": 3
   },
   "file_extension": ".py",
   "mimetype": "text/x-python",
   "name": "python",
   "nbconvert_exporter": "python",
   "pygments_lexer": "ipython3",
   "version": "3.8.8"
  }
 },
 "nbformat": 4,
 "nbformat_minor": 5
}
